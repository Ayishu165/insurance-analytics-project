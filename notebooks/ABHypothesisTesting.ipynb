{
 "cells": [
  {
   "cell_type": "code",
   "execution_count": 33,
   "id": "f3c8c200",
   "metadata": {},
   "outputs": [],
   "source": [
    "import pandas as pd\n",
    "import numpy as np\n",
    "import matplotlib.pyplot as plt\n",
    "import seaborn as sns\n",
    "from scipy.stats import ttest_ind, chi2_contingency"
   ]
  },
  {
   "cell_type": "code",
   "execution_count": 34,
   "id": "8bac49ab",
   "metadata": {},
   "outputs": [
    {
     "name": "stderr",
     "output_type": "stream",
     "text": [
      "C:\\Users\\ayish\\AppData\\Local\\Temp\\ipykernel_1596\\1027753769.py:3: DtypeWarning: Columns (32,37) have mixed types. Specify dtype option on import or set low_memory=False.\n",
      "  df = pd.read_csv(file_path)\n"
     ]
    },
    {
     "name": "stdout",
     "output_type": "stream",
     "text": [
      "(1000098, 52)\n",
      "Index(['UnderwrittenCoverID', 'PolicyID', 'TransactionMonth',\n",
      "       'IsVATRegistered', 'Citizenship', 'LegalType', 'Title', 'Language',\n",
      "       'Bank', 'AccountType', 'MaritalStatus', 'Gender', 'Country', 'Province',\n",
      "       'PostalCode', 'MainCrestaZone', 'SubCrestaZone', 'ItemType', 'mmcode',\n",
      "       'VehicleType', 'RegistrationYear', 'make', 'Model', 'Cylinders',\n",
      "       'cubiccapacity', 'kilowatts', 'bodytype', 'NumberOfDoors',\n",
      "       'VehicleIntroDate', 'CustomValueEstimate', 'AlarmImmobiliser',\n",
      "       'TrackingDevice', 'CapitalOutstanding', 'NewVehicle', 'WrittenOff',\n",
      "       'Rebuilt', 'Converted', 'CrossBorder', 'NumberOfVehiclesInFleet',\n",
      "       'SumInsured', 'TermFrequency', 'CalculatedPremiumPerTerm',\n",
      "       'ExcessSelected', 'CoverCategory', 'CoverType', 'CoverGroup', 'Section',\n",
      "       'Product', 'StatutoryClass', 'StatutoryRiskType', 'TotalPremium',\n",
      "       'TotalClaims'],\n",
      "      dtype='object')\n"
     ]
    },
    {
     "data": {
      "text/html": [
       "<div>\n",
       "<style scoped>\n",
       "    .dataframe tbody tr th:only-of-type {\n",
       "        vertical-align: middle;\n",
       "    }\n",
       "\n",
       "    .dataframe tbody tr th {\n",
       "        vertical-align: top;\n",
       "    }\n",
       "\n",
       "    .dataframe thead th {\n",
       "        text-align: right;\n",
       "    }\n",
       "</style>\n",
       "<table border=\"1\" class=\"dataframe\">\n",
       "  <thead>\n",
       "    <tr style=\"text-align: right;\">\n",
       "      <th></th>\n",
       "      <th>UnderwrittenCoverID</th>\n",
       "      <th>PolicyID</th>\n",
       "      <th>TransactionMonth</th>\n",
       "      <th>IsVATRegistered</th>\n",
       "      <th>Citizenship</th>\n",
       "      <th>LegalType</th>\n",
       "      <th>Title</th>\n",
       "      <th>Language</th>\n",
       "      <th>Bank</th>\n",
       "      <th>AccountType</th>\n",
       "      <th>...</th>\n",
       "      <th>ExcessSelected</th>\n",
       "      <th>CoverCategory</th>\n",
       "      <th>CoverType</th>\n",
       "      <th>CoverGroup</th>\n",
       "      <th>Section</th>\n",
       "      <th>Product</th>\n",
       "      <th>StatutoryClass</th>\n",
       "      <th>StatutoryRiskType</th>\n",
       "      <th>TotalPremium</th>\n",
       "      <th>TotalClaims</th>\n",
       "    </tr>\n",
       "  </thead>\n",
       "  <tbody>\n",
       "    <tr>\n",
       "      <th>0</th>\n",
       "      <td>145249</td>\n",
       "      <td>12827</td>\n",
       "      <td>2015-03-01 00:00:00</td>\n",
       "      <td>True</td>\n",
       "      <td></td>\n",
       "      <td>Close Corporation</td>\n",
       "      <td>Mr</td>\n",
       "      <td>English</td>\n",
       "      <td>First National Bank</td>\n",
       "      <td>Current account</td>\n",
       "      <td>...</td>\n",
       "      <td>Mobility - Windscreen</td>\n",
       "      <td>Windscreen</td>\n",
       "      <td>Windscreen</td>\n",
       "      <td>Comprehensive - Taxi</td>\n",
       "      <td>Motor Comprehensive</td>\n",
       "      <td>Mobility Metered Taxis: Monthly</td>\n",
       "      <td>Commercial</td>\n",
       "      <td>IFRS Constant</td>\n",
       "      <td>21.929825</td>\n",
       "      <td>0.0</td>\n",
       "    </tr>\n",
       "    <tr>\n",
       "      <th>1</th>\n",
       "      <td>145249</td>\n",
       "      <td>12827</td>\n",
       "      <td>2015-05-01 00:00:00</td>\n",
       "      <td>True</td>\n",
       "      <td></td>\n",
       "      <td>Close Corporation</td>\n",
       "      <td>Mr</td>\n",
       "      <td>English</td>\n",
       "      <td>First National Bank</td>\n",
       "      <td>Current account</td>\n",
       "      <td>...</td>\n",
       "      <td>Mobility - Windscreen</td>\n",
       "      <td>Windscreen</td>\n",
       "      <td>Windscreen</td>\n",
       "      <td>Comprehensive - Taxi</td>\n",
       "      <td>Motor Comprehensive</td>\n",
       "      <td>Mobility Metered Taxis: Monthly</td>\n",
       "      <td>Commercial</td>\n",
       "      <td>IFRS Constant</td>\n",
       "      <td>21.929825</td>\n",
       "      <td>0.0</td>\n",
       "    </tr>\n",
       "    <tr>\n",
       "      <th>2</th>\n",
       "      <td>145249</td>\n",
       "      <td>12827</td>\n",
       "      <td>2015-07-01 00:00:00</td>\n",
       "      <td>True</td>\n",
       "      <td></td>\n",
       "      <td>Close Corporation</td>\n",
       "      <td>Mr</td>\n",
       "      <td>English</td>\n",
       "      <td>First National Bank</td>\n",
       "      <td>Current account</td>\n",
       "      <td>...</td>\n",
       "      <td>Mobility - Windscreen</td>\n",
       "      <td>Windscreen</td>\n",
       "      <td>Windscreen</td>\n",
       "      <td>Comprehensive - Taxi</td>\n",
       "      <td>Motor Comprehensive</td>\n",
       "      <td>Mobility Metered Taxis: Monthly</td>\n",
       "      <td>Commercial</td>\n",
       "      <td>IFRS Constant</td>\n",
       "      <td>0.000000</td>\n",
       "      <td>0.0</td>\n",
       "    </tr>\n",
       "    <tr>\n",
       "      <th>3</th>\n",
       "      <td>145255</td>\n",
       "      <td>12827</td>\n",
       "      <td>2015-05-01 00:00:00</td>\n",
       "      <td>True</td>\n",
       "      <td></td>\n",
       "      <td>Close Corporation</td>\n",
       "      <td>Mr</td>\n",
       "      <td>English</td>\n",
       "      <td>First National Bank</td>\n",
       "      <td>Current account</td>\n",
       "      <td>...</td>\n",
       "      <td>Mobility - Metered Taxis - R2000</td>\n",
       "      <td>Own damage</td>\n",
       "      <td>Own Damage</td>\n",
       "      <td>Comprehensive - Taxi</td>\n",
       "      <td>Motor Comprehensive</td>\n",
       "      <td>Mobility Metered Taxis: Monthly</td>\n",
       "      <td>Commercial</td>\n",
       "      <td>IFRS Constant</td>\n",
       "      <td>512.848070</td>\n",
       "      <td>0.0</td>\n",
       "    </tr>\n",
       "    <tr>\n",
       "      <th>4</th>\n",
       "      <td>145255</td>\n",
       "      <td>12827</td>\n",
       "      <td>2015-07-01 00:00:00</td>\n",
       "      <td>True</td>\n",
       "      <td></td>\n",
       "      <td>Close Corporation</td>\n",
       "      <td>Mr</td>\n",
       "      <td>English</td>\n",
       "      <td>First National Bank</td>\n",
       "      <td>Current account</td>\n",
       "      <td>...</td>\n",
       "      <td>Mobility - Metered Taxis - R2000</td>\n",
       "      <td>Own damage</td>\n",
       "      <td>Own Damage</td>\n",
       "      <td>Comprehensive - Taxi</td>\n",
       "      <td>Motor Comprehensive</td>\n",
       "      <td>Mobility Metered Taxis: Monthly</td>\n",
       "      <td>Commercial</td>\n",
       "      <td>IFRS Constant</td>\n",
       "      <td>0.000000</td>\n",
       "      <td>0.0</td>\n",
       "    </tr>\n",
       "  </tbody>\n",
       "</table>\n",
       "<p>5 rows × 52 columns</p>\n",
       "</div>"
      ],
      "text/plain": [
       "   UnderwrittenCoverID  PolicyID     TransactionMonth  IsVATRegistered  \\\n",
       "0               145249     12827  2015-03-01 00:00:00             True   \n",
       "1               145249     12827  2015-05-01 00:00:00             True   \n",
       "2               145249     12827  2015-07-01 00:00:00             True   \n",
       "3               145255     12827  2015-05-01 00:00:00             True   \n",
       "4               145255     12827  2015-07-01 00:00:00             True   \n",
       "\n",
       "  Citizenship          LegalType Title Language                 Bank  \\\n",
       "0              Close Corporation    Mr  English  First National Bank   \n",
       "1              Close Corporation    Mr  English  First National Bank   \n",
       "2              Close Corporation    Mr  English  First National Bank   \n",
       "3              Close Corporation    Mr  English  First National Bank   \n",
       "4              Close Corporation    Mr  English  First National Bank   \n",
       "\n",
       "       AccountType  ...                    ExcessSelected CoverCategory  \\\n",
       "0  Current account  ...             Mobility - Windscreen    Windscreen   \n",
       "1  Current account  ...             Mobility - Windscreen    Windscreen   \n",
       "2  Current account  ...             Mobility - Windscreen    Windscreen   \n",
       "3  Current account  ...  Mobility - Metered Taxis - R2000    Own damage   \n",
       "4  Current account  ...  Mobility - Metered Taxis - R2000    Own damage   \n",
       "\n",
       "    CoverType            CoverGroup              Section  \\\n",
       "0  Windscreen  Comprehensive - Taxi  Motor Comprehensive   \n",
       "1  Windscreen  Comprehensive - Taxi  Motor Comprehensive   \n",
       "2  Windscreen  Comprehensive - Taxi  Motor Comprehensive   \n",
       "3  Own Damage  Comprehensive - Taxi  Motor Comprehensive   \n",
       "4  Own Damage  Comprehensive - Taxi  Motor Comprehensive   \n",
       "\n",
       "                           Product StatutoryClass StatutoryRiskType  \\\n",
       "0  Mobility Metered Taxis: Monthly     Commercial     IFRS Constant   \n",
       "1  Mobility Metered Taxis: Monthly     Commercial     IFRS Constant   \n",
       "2  Mobility Metered Taxis: Monthly     Commercial     IFRS Constant   \n",
       "3  Mobility Metered Taxis: Monthly     Commercial     IFRS Constant   \n",
       "4  Mobility Metered Taxis: Monthly     Commercial     IFRS Constant   \n",
       "\n",
       "   TotalPremium TotalClaims  \n",
       "0     21.929825         0.0  \n",
       "1     21.929825         0.0  \n",
       "2      0.000000         0.0  \n",
       "3    512.848070         0.0  \n",
       "4      0.000000         0.0  \n",
       "\n",
       "[5 rows x 52 columns]"
      ]
     },
     "execution_count": 34,
     "metadata": {},
     "output_type": "execute_result"
    }
   ],
   "source": [
    "# Load dataset\n",
    "file_path = r\"D:\\kaimtenx\\week3\\insurance-analytics-project\\data\\MachineLearningRating_v3.csv\"\n",
    "df = pd.read_csv(file_path)\n",
    "\n",
    "# Preview data\n",
    "print(df.shape)\n",
    "print(df.columns)\n",
    "df.head()"
   ]
  },
  {
   "cell_type": "code",
   "execution_count": 35,
   "id": "17ca63b4",
   "metadata": {},
   "outputs": [
    {
     "name": "stdout",
     "output_type": "stream",
     "text": [
      " Missing Value Summary:\n",
      "\n",
      "                         Missing Count   Missing %\n",
      "NumberOfVehiclesInFleet        1000098  100.000000\n",
      "CrossBorder                     999400   99.930207\n",
      "CustomValueEstimate             779642   77.956560\n",
      "WrittenOff                      641901   64.183810\n",
      "Converted                       641901   64.183810\n",
      "Rebuilt                         641901   64.183810\n",
      "NewVehicle                      153295   15.327998\n",
      "Bank                            145961   14.594670\n",
      "AccountType                      40232    4.022806\n",
      "Gender                            9536    0.953507\n",
      "MaritalStatus                     8259    0.825819\n",
      "mmcode                             552    0.055195\n",
      "VehicleType                        552    0.055195\n",
      "make                               552    0.055195\n",
      "VehicleIntroDate                   552    0.055195\n",
      "NumberOfDoors                      552    0.055195\n",
      "bodytype                           552    0.055195\n",
      "kilowatts                          552    0.055195\n",
      "cubiccapacity                      552    0.055195\n",
      "Cylinders                          552    0.055195\n",
      "Model                              552    0.055195\n",
      "CapitalOutstanding                   2    0.000200\n"
     ]
    }
   ],
   "source": [
    "# 1. Count and calculate % missing\n",
    "missing_count = df.isnull().sum()\n",
    "missing_pct = df.isnull().mean() * 100\n",
    "# Combine into one DataFrame\n",
    "missing_df = pd.DataFrame({\n",
    "    'Missing Count': missing_count,\n",
    "    'Missing %': missing_pct\n",
    "})\n",
    "# Display sorted by highest missing %\n",
    "print(\" Missing Value Summary:\\n\")\n",
    "print(missing_df[missing_df['Missing Count'] > 0].sort_values(by='Missing %', ascending=False))"
   ]
  },
  {
   "cell_type": "code",
   "execution_count": 36,
   "id": "0237882f",
   "metadata": {},
   "outputs": [
    {
     "name": "stdout",
     "output_type": "stream",
     "text": [
      "\n",
      " Dropped columns with >80% missing:\n",
      "['CrossBorder', 'NumberOfVehiclesInFleet']\n"
     ]
    }
   ],
   "source": [
    "# 2. Drop columns with >80% missing\n",
    "cols_to_drop = missing_df[missing_df['Missing %'] > 80].index.tolist()\n",
    "df.drop(columns=cols_to_drop, inplace=True)\n",
    "print(f\"\\n Dropped columns with >80% missing:\\n{cols_to_drop}\")"
   ]
  },
  {
   "cell_type": "code",
   "execution_count": 37,
   "id": "8e71e3c6",
   "metadata": {},
   "outputs": [
    {
     "name": "stdout",
     "output_type": "stream",
     "text": [
      "Imputed categorical column 'Bank' with mode: First National Bank\n",
      "Imputed categorical column 'AccountType' with mode: Current account\n",
      "Imputed categorical column 'MaritalStatus' with mode: Not specified\n",
      "Imputed categorical column 'Gender' with mode: Not specified\n",
      "Imputed numeric column 'mmcode' with median: 54877704.02047429\n",
      "Imputed categorical column 'VehicleType' with mode: Passenger Vehicle\n",
      "Imputed categorical column 'make' with mode: TOYOTA\n",
      "Imputed categorical column 'Model' with mode: QUANTUM 2.7 SESFIKILE 16s\n",
      "Imputed numeric column 'Cylinders' with median: 4.0466421755476985\n",
      "Imputed numeric column 'cubiccapacity' with median: 2466.7432584393314\n",
      "Imputed numeric column 'kilowatts' with median: 97.20791939540551\n",
      "Imputed categorical column 'bodytype' with mode: B/S\n",
      "Imputed numeric column 'NumberOfDoors' with median: 4.019249739381679\n",
      "Imputed categorical column 'VehicleIntroDate' with mode: 4/2012\n",
      "Imputed numeric column 'CustomValueEstimate' with median: 225531.1299417571\n",
      "Imputed categorical column 'CapitalOutstanding' with mode: 0\n",
      "Imputed categorical column 'NewVehicle' with mode: More than 6 months\n",
      "Imputed categorical column 'WrittenOff' with mode: No\n",
      "Imputed categorical column 'Rebuilt' with mode: No\n",
      "Imputed categorical column 'Converted' with mode: No\n"
     ]
    }
   ],
   "source": [
    "# Step 3: Impute remaining missing values\n",
    "# - Use mean for numeric columns\n",
    "# - Use mode for categorical columns\n",
    "for col in df.columns:\n",
    "    if df[col].isnull().sum() > 0:\n",
    "        if df[col].dtype in ['float64', 'int64']:\n",
    "            mean_value = df[col].mean()\n",
    "            df[col] = df[col].fillna(mean_value)\n",
    "            print(f\"Imputed numeric column '{col}' with median: {mean_value}\")\n",
    "        else:\n",
    "            mode_value = df[col].mode()[0]\n",
    "            df[col] = df[col].fillna(mode_value)\n",
    "            print(f\"Imputed categorical column '{col}' with mode: {mode_value}\")"
   ]
  },
  {
   "cell_type": "code",
   "execution_count": 38,
   "id": "a1c42534",
   "metadata": {},
   "outputs": [
    {
     "name": "stdout",
     "output_type": "stream",
     "text": [
      " Checking for inf/-inf values:\n"
     ]
    },
    {
     "name": "stderr",
     "output_type": "stream",
     "text": [
      "C:\\Users\\ayish\\AppData\\Local\\Temp\\ipykernel_1596\\3115858012.py:3: FutureWarning: DataFrame.applymap has been deprecated. Use DataFrame.map instead.\n",
      "  is_inf = df.select_dtypes(include=[np.number]).applymap(np.isinf)\n"
     ]
    },
    {
     "name": "stdout",
     "output_type": "stream",
     "text": [
      "UnderwrittenCoverID         0\n",
      "PolicyID                    0\n",
      "PostalCode                  0\n",
      "mmcode                      0\n",
      "RegistrationYear            0\n",
      "Cylinders                   0\n",
      "cubiccapacity               0\n",
      "kilowatts                   0\n",
      "NumberOfDoors               0\n",
      "CustomValueEstimate         0\n",
      "SumInsured                  0\n",
      "CalculatedPremiumPerTerm    0\n",
      "TotalPremium                0\n",
      "TotalClaims                 0\n",
      "dtype: int64\n",
      "\n",
      " Missing values after inf-cleaning:\n",
      "Series([], dtype: int64)\n"
     ]
    }
   ],
   "source": [
    "# Step 1: Detect inf values in numeric columns\n",
    "print(\" Checking for inf/-inf values:\")\n",
    "is_inf = df.select_dtypes(include=[np.number]).applymap(np.isinf)\n",
    "print(is_inf.sum())  # Count of inf values per column\n",
    "\n",
    "# Step 2: Replace inf/-inf with NaN (across full DataFrame)\n",
    "df.replace([np.inf, -np.inf], np.nan, inplace=True)\n",
    "\n",
    "# Step 3: Show remaining missing values (after replacement)\n",
    "print(\"\\n Missing values after inf-cleaning:\")\n",
    "print(df.isnull().sum()[df.isnull().sum() > 0])"
   ]
  },
  {
   "cell_type": "code",
   "execution_count": 39,
   "id": "4c6e271d",
   "metadata": {},
   "outputs": [
    {
     "name": "stdout",
     "output_type": "stream",
     "text": [
      "\n",
      " Final check: All missing values should now be gone.\n",
      "0 missing values remaining.\n"
     ]
    }
   ],
   "source": [
    "# Step 4: Impute any new NaNs caused by inf cleanup\n",
    "for col in df.columns:\n",
    "    if df[col].isnull().sum() > 0:\n",
    "        if df[col].dtype == 'object':\n",
    "            df[col].fillna(df[col].mode()[0], inplace=True)\n",
    "        else:\n",
    "            df[col].fillna(df[col].mean(), inplace=True)\n",
    "\n",
    "print(\"\\n Final check: All missing values should now be gone.\")\n",
    "print(df.isnull().sum().sum(), \"missing values remaining.\")"
   ]
  },
  {
   "cell_type": "code",
   "execution_count": 40,
   "id": "df6fe31b",
   "metadata": {},
   "outputs": [
    {
     "name": "stdout",
     "output_type": "stream",
     "text": [
      "\n",
      " Data types of each column:\n",
      "UnderwrittenCoverID           int64\n",
      "PolicyID                      int64\n",
      "TransactionMonth             object\n",
      "IsVATRegistered                bool\n",
      "Citizenship                  object\n",
      "LegalType                    object\n",
      "Title                        object\n",
      "Language                     object\n",
      "Bank                         object\n",
      "AccountType                  object\n",
      "MaritalStatus                object\n",
      "Gender                       object\n",
      "Country                      object\n",
      "Province                     object\n",
      "PostalCode                    int64\n",
      "MainCrestaZone               object\n",
      "SubCrestaZone                object\n",
      "ItemType                     object\n",
      "mmcode                      float64\n",
      "VehicleType                  object\n",
      "RegistrationYear              int64\n",
      "make                         object\n",
      "Model                        object\n",
      "Cylinders                   float64\n",
      "cubiccapacity               float64\n",
      "kilowatts                   float64\n",
      "bodytype                     object\n",
      "NumberOfDoors               float64\n",
      "VehicleIntroDate             object\n",
      "CustomValueEstimate         float64\n",
      "AlarmImmobiliser             object\n",
      "TrackingDevice               object\n",
      "CapitalOutstanding           object\n",
      "NewVehicle                   object\n",
      "WrittenOff                   object\n",
      "Rebuilt                      object\n",
      "Converted                    object\n",
      "SumInsured                  float64\n",
      "TermFrequency                object\n",
      "CalculatedPremiumPerTerm    float64\n",
      "ExcessSelected               object\n",
      "CoverCategory                object\n",
      "CoverType                    object\n",
      "CoverGroup                   object\n",
      "Section                      object\n",
      "Product                      object\n",
      "StatutoryClass               object\n",
      "StatutoryRiskType            object\n",
      "TotalPremium                float64\n",
      "TotalClaims                 float64\n",
      "dtype: object\n",
      "\n",
      " Size of the dataset:\n",
      "(1000098, 50)\n"
     ]
    }
   ],
   "source": [
    "#check data types\n",
    "print(\"\\n Data types of each column:\")\n",
    "print(df.dtypes)\n",
    "#size of the dataset\n",
    "print(\"\\n Size of the dataset:\")\n",
    "print(df.shape)\n"
   ]
  },
  {
   "cell_type": "code",
   "execution_count": 41,
   "id": "360f5067",
   "metadata": {},
   "outputs": [
    {
     "name": "stdout",
     "output_type": "stream",
     "text": [
      "\n",
      " Cleaned data saved to: D:\\kaimtenx\\week3\\insurance-analytics-project\\data\\MachineLearningRating_v3_cleaned_task3.csv\n"
     ]
    }
   ],
   "source": [
    "#save data into \"D:\\kaimtenx\\week3\\insurance-analytics-project\\data\\MachineLearningRating_v3.csv\"\n",
    "output_file_path = r\"D:\\kaimtenx\\week3\\insurance-analytics-project\\data\\MachineLearningRating_v3_cleaned_task3.csv\"\n",
    "df.to_csv(output_file_path, index=False)\n",
    "print(f\"\\n Cleaned data saved to: {output_file_path}\")\n",
    "\n"
   ]
  },
  {
   "cell_type": "code",
   "execution_count": 42,
   "id": "7d68c9ba",
   "metadata": {},
   "outputs": [
    {
     "name": "stderr",
     "output_type": "stream",
     "text": [
      "C:\\Users\\ayish\\AppData\\Local\\Temp\\ipykernel_1596\\3285318830.py:2: DtypeWarning: Columns (32) have mixed types. Specify dtype option on import or set low_memory=False.\n",
      "  df = pd.read_csv(output_file_path)\n"
     ]
    },
    {
     "name": "stdout",
     "output_type": "stream",
     "text": [
      "\n",
      " Cleaned data preview:\n",
      "   UnderwrittenCoverID  PolicyID     TransactionMonth  IsVATRegistered  \\\n",
      "0               145249     12827  2015-03-01 00:00:00             True   \n",
      "1               145249     12827  2015-05-01 00:00:00             True   \n",
      "2               145249     12827  2015-07-01 00:00:00             True   \n",
      "3               145255     12827  2015-05-01 00:00:00             True   \n",
      "4               145255     12827  2015-07-01 00:00:00             True   \n",
      "\n",
      "  Citizenship          LegalType Title Language                 Bank  \\\n",
      "0              Close Corporation    Mr  English  First National Bank   \n",
      "1              Close Corporation    Mr  English  First National Bank   \n",
      "2              Close Corporation    Mr  English  First National Bank   \n",
      "3              Close Corporation    Mr  English  First National Bank   \n",
      "4              Close Corporation    Mr  English  First National Bank   \n",
      "\n",
      "       AccountType  ...                    ExcessSelected CoverCategory  \\\n",
      "0  Current account  ...             Mobility - Windscreen    Windscreen   \n",
      "1  Current account  ...             Mobility - Windscreen    Windscreen   \n",
      "2  Current account  ...             Mobility - Windscreen    Windscreen   \n",
      "3  Current account  ...  Mobility - Metered Taxis - R2000    Own damage   \n",
      "4  Current account  ...  Mobility - Metered Taxis - R2000    Own damage   \n",
      "\n",
      "    CoverType            CoverGroup              Section  \\\n",
      "0  Windscreen  Comprehensive - Taxi  Motor Comprehensive   \n",
      "1  Windscreen  Comprehensive - Taxi  Motor Comprehensive   \n",
      "2  Windscreen  Comprehensive - Taxi  Motor Comprehensive   \n",
      "3  Own Damage  Comprehensive - Taxi  Motor Comprehensive   \n",
      "4  Own Damage  Comprehensive - Taxi  Motor Comprehensive   \n",
      "\n",
      "                           Product StatutoryClass StatutoryRiskType  \\\n",
      "0  Mobility Metered Taxis: Monthly     Commercial     IFRS Constant   \n",
      "1  Mobility Metered Taxis: Monthly     Commercial     IFRS Constant   \n",
      "2  Mobility Metered Taxis: Monthly     Commercial     IFRS Constant   \n",
      "3  Mobility Metered Taxis: Monthly     Commercial     IFRS Constant   \n",
      "4  Mobility Metered Taxis: Monthly     Commercial     IFRS Constant   \n",
      "\n",
      "   TotalPremium TotalClaims  \n",
      "0     21.929825         0.0  \n",
      "1     21.929825         0.0  \n",
      "2      0.000000         0.0  \n",
      "3    512.848070         0.0  \n",
      "4      0.000000         0.0  \n",
      "\n",
      "[5 rows x 50 columns]\n"
     ]
    }
   ],
   "source": [
    "#load data\n",
    "df = pd.read_csv(output_file_path)\n",
    "# Display first few rows of the cleaned data\n",
    "print(\"\\n Cleaned data preview:\")\n",
    "print(df.head())"
   ]
  },
  {
   "cell_type": "code",
   "execution_count": 43,
   "id": "81a0a09f",
   "metadata": {},
   "outputs": [
    {
     "name": "stdout",
     "output_type": "stream",
     "text": [
      "P-Value: 0.030320141820186792\n",
      "Reject H0: Gender impacts claim frequency\n"
     ]
    }
   ],
   "source": [
    "#Claim Frequency = (Number of Policies with Claims > 0) / (Total Policies)\n",
    "# Create binary claim column\n",
    "df['HasClaim'] = df['TotalClaims'] > 0\n",
    "# Create contingency table\n",
    "gender_table = pd.crosstab(df['Gender'], df['HasClaim'])\n",
    "# Chi-square test\n",
    "chi2, p, _, _ = chi2_contingency(gender_table)\n",
    "print(\"P-Value:\", p)\n",
    "if p < 0.05:\n",
    "    print(\"Reject H0: Gender impacts claim frequency\")\n",
    "else:\n",
    "    print(\"Fail to reject H0: No gender difference in claims\")"
   ]
  },
  {
   "cell_type": "code",
   "execution_count": 44,
   "id": "82b0cb54",
   "metadata": {},
   "outputs": [],
   "source": [
    "from scipy.stats import f_oneway"
   ]
  },
  {
   "cell_type": "code",
   "execution_count": 45,
   "id": "a0067d6c",
   "metadata": {},
   "outputs": [
    {
     "name": "stdout",
     "output_type": "stream",
     "text": [
      "P-Value: 6.304916760425176e-06\n",
      "Reject H0: Province impacts claim severity\n"
     ]
    }
   ],
   "source": [
    "#Claim Severity by Province (T-Test or ANOVA)\n",
    "\n",
    "# Filter only policies with claims\n",
    "claimed_df = df[df['TotalClaims'] > 0]\n",
    "\n",
    "# Group claim severity by province\n",
    "grouped = [group['TotalClaims'] for name, group in claimed_df.groupby('Province')]\n",
    "\n",
    "# Run ANOVA\n",
    "f_stat, p_val = f_oneway(*grouped)\n",
    "\n",
    "print(\"P-Value:\", p_val)\n",
    "if p_val < 0.05:\n",
    "    print(\"Reject H0: Province impacts claim severity\")\n",
    "else:\n",
    "    print(\"Fail to reject H0: No difference across provinces\")\n"
   ]
  },
  {
   "cell_type": "code",
   "execution_count": null,
   "id": "1666fdc5",
   "metadata": {},
   "outputs": [
    {
     "data": {
      "text/html": [
       "<div>\n",
       "<style scoped>\n",
       "    .dataframe tbody tr th:only-of-type {\n",
       "        vertical-align: middle;\n",
       "    }\n",
       "\n",
       "    .dataframe tbody tr th {\n",
       "        vertical-align: top;\n",
       "    }\n",
       "\n",
       "    .dataframe thead th {\n",
       "        text-align: right;\n",
       "    }\n",
       "</style>\n",
       "<table border=\"1\" class=\"dataframe\">\n",
       "  <thead>\n",
       "    <tr style=\"text-align: right;\">\n",
       "      <th></th>\n",
       "      <th>total_policies</th>\n",
       "      <th>claim_count</th>\n",
       "      <th>avg_claim_amount</th>\n",
       "      <th>avg_margin</th>\n",
       "      <th>claim_frequency</th>\n",
       "    </tr>\n",
       "    <tr>\n",
       "      <th>Province</th>\n",
       "      <th></th>\n",
       "      <th></th>\n",
       "      <th></th>\n",
       "      <th></th>\n",
       "      <th></th>\n",
       "    </tr>\n",
       "  </thead>\n",
       "  <tbody>\n",
       "    <tr>\n",
       "      <th>Eastern Cape</th>\n",
       "      <td>30336</td>\n",
       "      <td>50</td>\n",
       "      <td>27128.533277</td>\n",
       "      <td>25.833240</td>\n",
       "      <td>0.001648</td>\n",
       "    </tr>\n",
       "    <tr>\n",
       "      <th>Free State</th>\n",
       "      <td>8099</td>\n",
       "      <td>11</td>\n",
       "      <td>32265.661085</td>\n",
       "      <td>20.550805</td>\n",
       "      <td>0.001358</td>\n",
       "    </tr>\n",
       "    <tr>\n",
       "      <th>Gauteng</th>\n",
       "      <td>393865</td>\n",
       "      <td>1322</td>\n",
       "      <td>22243.878396</td>\n",
       "      <td>-13.558894</td>\n",
       "      <td>0.003356</td>\n",
       "    </tr>\n",
       "    <tr>\n",
       "      <th>KwaZulu-Natal</th>\n",
       "      <td>169781</td>\n",
       "      <td>483</td>\n",
       "      <td>29609.487473</td>\n",
       "      <td>-6.433598</td>\n",
       "      <td>0.002845</td>\n",
       "    </tr>\n",
       "    <tr>\n",
       "      <th>Limpopo</th>\n",
       "      <td>24836</td>\n",
       "      <td>67</td>\n",
       "      <td>15171.294187</td>\n",
       "      <td>20.971484</td>\n",
       "      <td>0.002698</td>\n",
       "    </tr>\n",
       "    <tr>\n",
       "      <th>Mpumalanga</th>\n",
       "      <td>52718</td>\n",
       "      <td>128</td>\n",
       "      <td>15979.553421</td>\n",
       "      <td>15.016059</td>\n",
       "      <td>0.002428</td>\n",
       "    </tr>\n",
       "    <tr>\n",
       "      <th>North West</th>\n",
       "      <td>143287</td>\n",
       "      <td>349</td>\n",
       "      <td>16963.467035</td>\n",
       "      <td>10.958832</td>\n",
       "      <td>0.002436</td>\n",
       "    </tr>\n",
       "    <tr>\n",
       "      <th>Northern Cape</th>\n",
       "      <td>6380</td>\n",
       "      <td>8</td>\n",
       "      <td>11186.313596</td>\n",
       "      <td>35.590527</td>\n",
       "      <td>0.001254</td>\n",
       "    </tr>\n",
       "    <tr>\n",
       "      <th>Western Cape</th>\n",
       "      <td>170796</td>\n",
       "      <td>370</td>\n",
       "      <td>28095.849881</td>\n",
       "      <td>-3.414689</td>\n",
       "      <td>0.002166</td>\n",
       "    </tr>\n",
       "  </tbody>\n",
       "</table>\n",
       "</div>"
      ],
      "text/plain": [
       "               total_policies  claim_count  avg_claim_amount  avg_margin  \\\n",
       "Province                                                                   \n",
       "Eastern Cape            30336           50      27128.533277   25.833240   \n",
       "Free State               8099           11      32265.661085   20.550805   \n",
       "Gauteng                393865         1322      22243.878396  -13.558894   \n",
       "KwaZulu-Natal          169781          483      29609.487473   -6.433598   \n",
       "Limpopo                 24836           67      15171.294187   20.971484   \n",
       "Mpumalanga              52718          128      15979.553421   15.016059   \n",
       "North West             143287          349      16963.467035   10.958832   \n",
       "Northern Cape            6380            8      11186.313596   35.590527   \n",
       "Western Cape           170796          370      28095.849881   -3.414689   \n",
       "\n",
       "               claim_frequency  \n",
       "Province                        \n",
       "Eastern Cape          0.001648  \n",
       "Free State            0.001358  \n",
       "Gauteng               0.003356  \n",
       "KwaZulu-Natal         0.002845  \n",
       "Limpopo               0.002698  \n",
       "Mpumalanga            0.002428  \n",
       "North West            0.002436  \n",
       "Northern Cape         0.001254  \n",
       "Western Cape          0.002166  "
      ]
     },
     "execution_count": 48,
     "metadata": {},
     "output_type": "execute_result"
    }
   ],
   "source": [
    "#  Create Grouped Metrics\n",
    "# Claim Frequency by Province\n",
    "province_group = df.groupby('Province').agg(\n",
    "    total_policies=('HasClaim', 'count'),\n",
    "    claim_count=('HasClaim', 'sum'),\n",
    "    avg_claim_amount=('TotalClaims', lambda x: x[x > 0].mean()),\n",
    "    avg_margin=('Margin', 'mean')\n",
    ")\n",
    "province_group['claim_frequency'] = province_group['claim_count'] / province_group['total_policies']\n",
    "province_group"
   ]
  },
  {
   "cell_type": "code",
   "execution_count": null,
   "id": "754773a0",
   "metadata": {},
   "outputs": [
    {
     "name": "stdout",
     "output_type": "stream",
     "text": [
      "Chi-Square Test for Claim Frequency by Province:\n",
      "Chi2 Statistic = 104.19, p-value = 0.0000\n",
      "\n",
      "T-Test for Claim Severity between Provinces:\n",
      "T-statistic = -2.17, p-value = 0.0306\n"
     ]
    }
   ],
   "source": [
    "#Define and Run A/B Test: \n",
    "#  Hypothesis 1: Risk Difference Across Provinces (use two provinces for A/B)\n",
    "# Filter to two major provinces\n",
    "group_a = df[df['Province'] == 'Gauteng']\n",
    "group_b = df[df['Province'] == 'Western Cape']\n",
    "\n",
    "# Compare claim frequency (binary variable): chi-square\n",
    "contingency = pd.crosstab(df['Province'], df['HasClaim'])\n",
    "chi2, p, _, _ = chi2_contingency(contingency)\n",
    "\n",
    "print(\"Chi-Square Test for Claim Frequency by Province:\")\n",
    "print(f\"Chi2 Statistic = {chi2:.2f}, p-value = {p:.4f}\")\n",
    "\n",
    "# Compare claim severity (only where claim > 0): t-test\n",
    "severity_a = group_a[group_a['HasClaim'] == 1]['TotalClaims']\n",
    "severity_b = group_b[group_b['HasClaim'] == 1]['TotalClaims']\n",
    "t_stat, p_val = ttest_ind(severity_a, severity_b, equal_var=False)\n",
    "\n",
    "print(\"\\nT-Test for Claim Severity between Provinces:\")\n",
    "print(f\"T-statistic = {t_stat:.2f}, p-value = {p_val:.4f}\")\n"
   ]
  },
  {
   "cell_type": "code",
   "execution_count": 52,
   "id": "da699134",
   "metadata": {},
   "outputs": [
    {
     "name": "stdout",
     "output_type": "stream",
     "text": [
      "\n",
      "Chi-Square Test for Claim Frequency by Zip Code:\n",
      "Chi2 Statistic = 83.59, p-value = 0.0000\n",
      "\n",
      "T-Test for Claim Severity between Zip Codes:\n",
      "T-statistic = 0.39, p-value = 0.7002\n"
     ]
    }
   ],
   "source": [
    "#Hypothesis 2: Risk Difference Between Zip Codes\n",
    "# Choose top 2 zip codes by frequency\n",
    "top_zips = df['PostalCode'].value_counts().index[:2]\n",
    "group_a = df[df['PostalCode'] == top_zips[0]]\n",
    "group_b = df[df['PostalCode'] == top_zips[1]]\n",
    "\n",
    "# Chi-square test on claim occurrence\n",
    "contingency = pd.crosstab(df['PostalCode'].isin(top_zips), df['HasClaim'])\n",
    "chi2, p, _, _ = chi2_contingency(contingency)\n",
    "\n",
    "# t-test for claim severity\n",
    "severity_a = group_a[group_a['HasClaim'] == 1]['TotalClaims']\n",
    "severity_b = group_b[group_b['HasClaim'] == 1]['TotalClaims']\n",
    "t_stat, p_val = ttest_ind(severity_a, severity_b, equal_var=False)\n",
    "print(\"\\nChi-Square Test for Claim Frequency by Zip Code:\")\n",
    "print(f\"Chi2 Statistic = {chi2:.2f}, p-value = {p:.4f}\")\n",
    "print(\"\\nT-Test for Claim Severity between Zip Codes:\")\n",
    "print(f\"T-statistic = {t_stat:.2f}, p-value = {p_val:.4f}\")\n"
   ]
  },
  {
   "cell_type": "code",
   "execution_count": 53,
   "id": "91056fb7",
   "metadata": {},
   "outputs": [
    {
     "data": {
      "image/png": "[encoded data removed]",
      "text/plain": [
       "<Figure size 1000x600 with 1 Axes>"
      ]
     },
     "metadata": {},
     "output_type": "display_data"
    }
   ],
   "source": [
    "# Visualize Claim Frequency by Province\n",
    "plt.figure(figsize=(10, 6))\n",
    "sns.barplot(x=province_group.index, y='claim_frequency', data=province_group.reset_index())\n",
    "plt.title('Claim Frequency by Province')\n",
    "plt.xlabel('Province')\n",
    "plt.ylabel('Claim Frequency')\n",
    "plt.xticks(rotation=45)\n",
    "plt.tight_layout()\n",
    "plt.show()"
   ]
  },
  {
   "cell_type": "code",
   "execution_count": null,
   "id": "480244ee",
   "metadata": {},
   "outputs": [
    {
     "name": "stdout",
     "output_type": "stream",
     "text": [
      "T-test on Margin between zip codes: p = 0.2445\n"
     ]
    }
   ],
   "source": [
    "#Hypothesis 3: Margin Difference Between Zip Codes\n",
    "margin_a = group_a['Margin']\n",
    "margin_b = group_b['Margin']\n",
    "t_stat, p_val = ttest_ind(margin_a, margin_b, equal_var=False)\n",
    "print(f\"T-test on Margin between zip codes: p = {p_val:.4f}\")\n"
   ]
  },
  {
   "cell_type": "code",
   "execution_count": 57,
   "id": "7387f11a",
   "metadata": {},
   "outputs": [
    {
     "data": {
      "image/png": "[encoded data removed]",
      "text/plain": [
       "<Figure size 1000x600 with 1 Axes>"
      ]
     },
     "metadata": {},
     "output_type": "display_data"
    }
   ],
   "source": [
    "# Visualize Margin Distribution by Zip Code\n",
    "plt.figure(figsize=(10, 6))\n",
    "sns.boxplot(x='PostalCode', y='Margin', data=df[df['PostalCode'].isin(top_zips)])\n",
    "plt.title('Margin Distribution by Zip Code')\n",
    "plt.xlabel('Postal Code')\n",
    "plt.ylabel('Margin')\n",
    "plt.xticks(rotation=45)\n",
    "plt.tight_layout()\n",
    "plt.show()\n"
   ]
  },
  {
   "cell_type": "code",
   "execution_count": null,
   "id": "16cbc3a4",
   "metadata": {},
   "outputs": [
    {
     "name": "stdout",
     "output_type": "stream",
     "text": [
      "Chi-Square for Claim Frequency by Gender: p = 0.0303\n",
      "T-test for Claim Severity by Gender: p = 0.5680\n"
     ]
    }
   ],
   "source": [
    "# Hypothesis 4: Risk Difference Between Women and Men\n",
    "#Assuming you have a column called Gender with \"Male\"/\"Female\"\n",
    "male_group = df[df['Gender'] == 'Male']\n",
    "female_group = df[df['Gender'] == 'Female']\n",
    "\n",
    "# Chi-square for frequency\n",
    "contingency = pd.crosstab(df['Gender'], df['HasClaim'])\n",
    "chi2, p, _, _ = chi2_contingency(contingency)\n",
    "print(f\"Chi-Square for Claim Frequency by Gender: p = {p:.4f}\")\n",
    "\n",
    "# t-test for claim severity\n",
    "severity_m = male_group[male_group['HasClaim'] == 1]['TotalClaims']\n",
    "severity_f = female_group[female_group['HasClaim'] == 1]['TotalClaims']\n",
    "t_stat, p_val = ttest_ind(severity_m, severity_f, equal_var=False)\n",
    "print(f\"T-test for Claim Severity by Gender: p = {p_val:.4f}\")\n"
   ]
  }
 ],
 "metadata": {
  "kernelspec": {
   "display_name": ".venv",
   "language": "python",
   "name": "python3"
  },
  "language_info": {
   "codemirror_mode": {
    "name": "ipython",
    "version": 3
   },
   "file_extension": ".py",
   "mimetype": "text/x-python",
   "name": "python",
   "nbconvert_exporter": "python",
   "pygments_lexer": "ipython3",
   "version": "3.10.11"
  }
 },
 "nbformat": 4,
 "nbformat_minor": 5
}
