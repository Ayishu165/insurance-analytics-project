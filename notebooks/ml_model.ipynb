{
 "cells": [
  {
   "cell_type": "code",
   "execution_count": 1,
   "id": "76b8f639",
   "metadata": {},
   "outputs": [
    {
     "name": "stderr",
     "output_type": "stream",
     "text": [
      "d:\\kaimtenx\\week3\\insurance-analytics-project\\.venv\\lib\\site-packages\\tqdm\\auto.py:21: TqdmWarning: IProgress not found. Please update jupyter and ipywidgets. See https://ipywidgets.readthedocs.io/en/stable/user_install.html\n",
      "  from .autonotebook import tqdm as notebook_tqdm\n"
     ]
    }
   ],
   "source": [
    "# Task 4: Predictive Modeling for Risk-Based Insurance Pricing\n",
    "\n",
    "# === Step 1: Load Libraries ===\n",
    "import pandas as pd\n",
    "import numpy as np\n",
    "import matplotlib.pyplot as plt\n",
    "import seaborn as sns\n",
    "from sklearn.model_selection import train_test_split\n",
    "from sklearn.linear_model import LinearRegression, LogisticRegression\n",
    "from sklearn.ensemble import RandomForestRegressor, RandomForestClassifier\n",
    "from xgboost import XGBRegressor, XGBClassifier\n",
    "from sklearn.metrics import mean_squared_error, r2_score, accuracy_score, precision_score, recall_score, f1_score, roc_auc_score\n",
    "from sklearn.preprocessing import LabelEncoder\n",
    "import shap\n",
    "import warnings\n",
    "warnings.filterwarnings('ignore')"
   ]
  },
  {
   "cell_type": "code",
   "execution_count": 3,
   "id": "40b72b8d",
   "metadata": {},
   "outputs": [],
   "source": [
    "# === Step 2: Load Dataset ===\n",
    "df = pd.read_csv(\"../data/MachineLearningRating_v3_cleaned_task3.csv\")"
   ]
  },
  {
   "cell_type": "code",
   "execution_count": 5,
   "id": "f3b10750",
   "metadata": {},
   "outputs": [
    {
     "name": "stdout",
     "output_type": "stream",
     "text": [
      "   UnderwrittenCoverID  PolicyID     TransactionMonth  IsVATRegistered  \\\n",
      "0               145249     12827  2015-03-01 00:00:00             True   \n",
      "1               145249     12827  2015-05-01 00:00:00             True   \n",
      "2               145249     12827  2015-07-01 00:00:00             True   \n",
      "3               145255     12827  2015-05-01 00:00:00             True   \n",
      "4               145255     12827  2015-07-01 00:00:00             True   \n",
      "\n",
      "  Citizenship          LegalType Title Language                 Bank  \\\n",
      "0              Close Corporation    Mr  English  First National Bank   \n",
      "1              Close Corporation    Mr  English  First National Bank   \n",
      "2              Close Corporation    Mr  English  First National Bank   \n",
      "3              Close Corporation    Mr  English  First National Bank   \n",
      "4              Close Corporation    Mr  English  First National Bank   \n",
      "\n",
      "       AccountType  ...                    ExcessSelected CoverCategory  \\\n",
      "0  Current account  ...             Mobility - Windscreen    Windscreen   \n",
      "1  Current account  ...             Mobility - Windscreen    Windscreen   \n",
      "2  Current account  ...             Mobility - Windscreen    Windscreen   \n",
      "3  Current account  ...  Mobility - Metered Taxis - R2000    Own damage   \n",
      "4  Current account  ...  Mobility - Metered Taxis - R2000    Own damage   \n",
      "\n",
      "    CoverType            CoverGroup              Section  \\\n",
      "0  Windscreen  Comprehensive - Taxi  Motor Comprehensive   \n",
      "1  Windscreen  Comprehensive - Taxi  Motor Comprehensive   \n",
      "2  Windscreen  Comprehensive - Taxi  Motor Comprehensive   \n",
      "3  Own Damage  Comprehensive - Taxi  Motor Comprehensive   \n",
      "4  Own Damage  Comprehensive - Taxi  Motor Comprehensive   \n",
      "\n",
      "                           Product StatutoryClass StatutoryRiskType  \\\n",
      "0  Mobility Metered Taxis: Monthly     Commercial     IFRS Constant   \n",
      "1  Mobility Metered Taxis: Monthly     Commercial     IFRS Constant   \n",
      "2  Mobility Metered Taxis: Monthly     Commercial     IFRS Constant   \n",
      "3  Mobility Metered Taxis: Monthly     Commercial     IFRS Constant   \n",
      "4  Mobility Metered Taxis: Monthly     Commercial     IFRS Constant   \n",
      "\n",
      "   TotalPremium TotalClaims  \n",
      "0     21.929825         0.0  \n",
      "1     21.929825         0.0  \n",
      "2      0.000000         0.0  \n",
      "3    512.848070         0.0  \n",
      "4      0.000000         0.0  \n",
      "\n",
      "[5 rows x 50 columns]\n"
     ]
    }
   ],
   "source": [
    "#display first few rows\n",
    "print(df.head())\n",
    "\n"
   ]
  },
  {
   "cell_type": "code",
   "execution_count": 6,
   "id": "f3af5618",
   "metadata": {},
   "outputs": [
    {
     "name": "stdout",
     "output_type": "stream",
     "text": [
      "<class 'pandas.core.frame.DataFrame'>\n",
      "RangeIndex: 1000098 entries, 0 to 1000097\n",
      "Data columns (total 50 columns):\n",
      " #   Column                    Non-Null Count    Dtype  \n",
      "---  ------                    --------------    -----  \n",
      " 0   UnderwrittenCoverID       1000098 non-null  int64  \n",
      " 1   PolicyID                  1000098 non-null  int64  \n",
      " 2   TransactionMonth          1000098 non-null  object \n",
      " 3   IsVATRegistered           1000098 non-null  bool   \n",
      " 4   Citizenship               1000098 non-null  object \n",
      " 5   LegalType                 1000098 non-null  object \n",
      " 6   Title                     1000098 non-null  object \n",
      " 7   Language                  1000098 non-null  object \n",
      " 8   Bank                      1000098 non-null  object \n",
      " 9   AccountType               1000098 non-null  object \n",
      " 10  MaritalStatus             1000098 non-null  object \n",
      " 11  Gender                    1000098 non-null  object \n",
      " 12  Country                   1000098 non-null  object \n",
      " 13  Province                  1000098 non-null  object \n",
      " 14  PostalCode                1000098 non-null  int64  \n",
      " 15  MainCrestaZone            1000098 non-null  object \n",
      " 16  SubCrestaZone             1000098 non-null  object \n",
      " 17  ItemType                  1000098 non-null  object \n",
      " 18  mmcode                    1000098 non-null  float64\n",
      " 19  VehicleType               1000098 non-null  object \n",
      " 20  RegistrationYear          1000098 non-null  int64  \n",
      " 21  make                      1000098 non-null  object \n",
      " 22  Model                     1000098 non-null  object \n",
      " 23  Cylinders                 1000098 non-null  float64\n",
      " 24  cubiccapacity             1000098 non-null  float64\n",
      " 25  kilowatts                 1000098 non-null  float64\n",
      " 26  bodytype                  1000098 non-null  object \n",
      " 27  NumberOfDoors             1000098 non-null  float64\n",
      " 28  VehicleIntroDate          1000098 non-null  object \n",
      " 29  CustomValueEstimate       1000098 non-null  float64\n",
      " 30  AlarmImmobiliser          1000098 non-null  object \n",
      " 31  TrackingDevice            1000098 non-null  object \n",
      " 32  CapitalOutstanding        1000098 non-null  object \n",
      " 33  NewVehicle                1000098 non-null  object \n",
      " 34  WrittenOff                1000098 non-null  object \n",
      " 35  Rebuilt                   1000098 non-null  object \n",
      " 36  Converted                 1000098 non-null  object \n",
      " 37  SumInsured                1000098 non-null  float64\n",
      " 38  TermFrequency             1000098 non-null  object \n",
      " 39  CalculatedPremiumPerTerm  1000098 non-null  float64\n",
      " 40  ExcessSelected            1000098 non-null  object \n",
      " 41  CoverCategory             1000098 non-null  object \n",
      " 42  CoverType                 1000098 non-null  object \n",
      " 43  CoverGroup                1000098 non-null  object \n",
      " 44  Section                   1000098 non-null  object \n",
      " 45  Product                   1000098 non-null  object \n",
      " 46  StatutoryClass            1000098 non-null  object \n",
      " 47  StatutoryRiskType         1000098 non-null  object \n",
      " 48  TotalPremium              1000098 non-null  float64\n",
      " 49  TotalClaims               1000098 non-null  float64\n",
      "dtypes: bool(1), float64(10), int64(4), object(35)\n",
      "memory usage: 374.8+ MB\n",
      "None\n"
     ]
    }
   ],
   "source": [
    "#display dataset info\n",
    "print(df.info())"
   ]
  },
  {
   "cell_type": "code",
   "execution_count": 7,
   "id": "e1037169",
   "metadata": {},
   "outputs": [
    {
     "name": "stdout",
     "output_type": "stream",
     "text": [
      "Missing values in percentage:\n",
      " UnderwrittenCoverID         0.0\n",
      "PolicyID                    0.0\n",
      "TransactionMonth            0.0\n",
      "IsVATRegistered             0.0\n",
      "Citizenship                 0.0\n",
      "LegalType                   0.0\n",
      "Title                       0.0\n",
      "Language                    0.0\n",
      "Bank                        0.0\n",
      "AccountType                 0.0\n",
      "MaritalStatus               0.0\n",
      "Gender                      0.0\n",
      "Country                     0.0\n",
      "Province                    0.0\n",
      "PostalCode                  0.0\n",
      "MainCrestaZone              0.0\n",
      "SubCrestaZone               0.0\n",
      "ItemType                    0.0\n",
      "mmcode                      0.0\n",
      "VehicleType                 0.0\n",
      "RegistrationYear            0.0\n",
      "make                        0.0\n",
      "Model                       0.0\n",
      "Cylinders                   0.0\n",
      "cubiccapacity               0.0\n",
      "kilowatts                   0.0\n",
      "bodytype                    0.0\n",
      "NumberOfDoors               0.0\n",
      "VehicleIntroDate            0.0\n",
      "CustomValueEstimate         0.0\n",
      "AlarmImmobiliser            0.0\n",
      "TrackingDevice              0.0\n",
      "CapitalOutstanding          0.0\n",
      "NewVehicle                  0.0\n",
      "WrittenOff                  0.0\n",
      "Rebuilt                     0.0\n",
      "Converted                   0.0\n",
      "SumInsured                  0.0\n",
      "TermFrequency               0.0\n",
      "CalculatedPremiumPerTerm    0.0\n",
      "ExcessSelected              0.0\n",
      "CoverCategory               0.0\n",
      "CoverType                   0.0\n",
      "CoverGroup                  0.0\n",
      "Section                     0.0\n",
      "Product                     0.0\n",
      "StatutoryClass              0.0\n",
      "StatutoryRiskType           0.0\n",
      "TotalPremium                0.0\n",
      "TotalClaims                 0.0\n",
      "dtype: float64\n",
      "UnderwrittenCoverID         0\n",
      "PolicyID                    0\n",
      "TransactionMonth            0\n",
      "IsVATRegistered             0\n",
      "Citizenship                 0\n",
      "LegalType                   0\n",
      "Title                       0\n",
      "Language                    0\n",
      "Bank                        0\n",
      "AccountType                 0\n",
      "MaritalStatus               0\n",
      "Gender                      0\n",
      "Country                     0\n",
      "Province                    0\n",
      "PostalCode                  0\n",
      "MainCrestaZone              0\n",
      "SubCrestaZone               0\n",
      "ItemType                    0\n",
      "mmcode                      0\n",
      "VehicleType                 0\n",
      "RegistrationYear            0\n",
      "make                        0\n",
      "Model                       0\n",
      "Cylinders                   0\n",
      "cubiccapacity               0\n",
      "kilowatts                   0\n",
      "bodytype                    0\n",
      "NumberOfDoors               0\n",
      "VehicleIntroDate            0\n",
      "CustomValueEstimate         0\n",
      "AlarmImmobiliser            0\n",
      "TrackingDevice              0\n",
      "CapitalOutstanding          0\n",
      "NewVehicle                  0\n",
      "WrittenOff                  0\n",
      "Rebuilt                     0\n",
      "Converted                   0\n",
      "SumInsured                  0\n",
      "TermFrequency               0\n",
      "CalculatedPremiumPerTerm    0\n",
      "ExcessSelected              0\n",
      "CoverCategory               0\n",
      "CoverType                   0\n",
      "CoverGroup                  0\n",
      "Section                     0\n",
      "Product                     0\n",
      "StatutoryClass              0\n",
      "StatutoryRiskType           0\n",
      "TotalPremium                0\n",
      "TotalClaims                 0\n",
      "dtype: int64\n"
     ]
    }
   ],
   "source": [
    "#check for missing values and generate in percentage\n",
    "missing_percentage = df.isnull().mean() * 100   \n",
    "print(\"Missing values in percentage:\\n\", missing_percentage)\n",
    "#check for null values  \n",
    "print(df.isnull().sum())\n"
   ]
  },
  {
   "cell_type": "code",
   "execution_count": 8,
   "id": "b9676520",
   "metadata": {},
   "outputs": [],
   "source": [
    "# Filter out rows with TotalPremium = 0 or null to avoid divide-by-zero\n",
    "if 'TotalPremium' in df.columns and 'TotalClaims' in df.columns:\n",
    "    df = df[(df['TotalPremium'] != 0) & (~df['TotalPremium'].isnull())]\n",
    "    df['LossRatio'] = df['TotalClaims'] / df['TotalPremium']"
   ]
  },
  {
   "cell_type": "code",
   "execution_count": 10,
   "id": "a5197071",
   "metadata": {},
   "outputs": [],
   "source": [
    "# Convert all object or categorical columns to string type explicitly\n",
    "for col in df.select_dtypes(include=['object', 'category']).columns:\n",
    "    df[col] = df[col].astype(str)\n"
   ]
  },
  {
   "cell_type": "code",
   "execution_count": 11,
   "id": "d2c85e8f",
   "metadata": {},
   "outputs": [],
   "source": [
    "# Convert all object or categorical columns to string type explicitly\n",
    "for col in df.select_dtypes(include=['object', 'category']).columns:\n",
    "    df[col] = df[col].astype(str)\n"
   ]
  },
  {
   "cell_type": "code",
   "execution_count": 12,
   "id": "2af4a7e5",
   "metadata": {},
   "outputs": [],
   "source": [
    "# Create binary target for classification\n",
    "df['ClaimOccurred'] = (df['TotalClaims'] > 0).astype(int)\n",
    "\n",
    "# Encode categorical variables\n",
    "for col in df.select_dtypes(include='object').columns:\n",
    "    df[col] = LabelEncoder().fit_transform(df[col])"
   ]
  },
  {
   "cell_type": "code",
   "execution_count": 13,
   "id": "bce2fa24",
   "metadata": {},
   "outputs": [],
   "source": [
    "# === Step 4: Claim Severity Prediction (Regression on TotalClaims > 0) ===\n",
    "severity_df = df[df['TotalClaims'] > 0]\n",
    "X_sev = severity_df.drop(['TotalClaims', 'CalculatedPremiumPerTerm', 'ClaimOccurred'], axis=1)\n",
    "y_sev = severity_df['TotalClaims']\n",
    "X_train_sev, X_test_sev, y_train_sev, y_test_sev = train_test_split(X_sev, y_sev, test_size=0.2, random_state=42)\n"
   ]
  },
  {
   "cell_type": "code",
   "execution_count": 14,
   "id": "e46fa0d8",
   "metadata": {},
   "outputs": [],
   "source": [
    "# Models\n",
    "models_reg = {\n",
    "    'LinearRegression': LinearRegression(),\n",
    "    'RandomForest': RandomForestRegressor(random_state=42),\n",
    "    'XGBoost': XGBRegressor(random_state=42)\n",
    "}\n"
   ]
  },
  {
   "cell_type": "code",
   "execution_count": 15,
   "id": "2dd1a1e9",
   "metadata": {},
   "outputs": [
    {
     "name": "stdout",
     "output_type": "stream",
     "text": [
      "\n",
      "--- Claim Severity Prediction ---\n",
      "LinearRegression RMSE: 23749.0316, R2: 0.4316\n",
      "RandomForest RMSE: 3963.9337, R2: 0.9842\n",
      "XGBoost RMSE: 7550.8374, R2: 0.9425\n"
     ]
    }
   ],
   "source": [
    "print(\"\\n--- Claim Severity Prediction ---\")\n",
    "for name, model in models_reg.items():\n",
    "    model.fit(X_train_sev, y_train_sev)\n",
    "    y_pred = model.predict(X_test_sev)\n",
    "    print(f\"{name} RMSE: {np.sqrt(mean_squared_error(y_test_sev, y_pred)):.4f}, R2: {r2_score(y_test_sev, y_pred):.4f}\")\n"
   ]
  },
  {
   "cell_type": "code",
   "execution_count": 16,
   "id": "16f13896",
   "metadata": {},
   "outputs": [
    {
     "name": "stdout",
     "output_type": "stream",
     "text": [
      "\n",
      "--- Premium Prediction ---\n",
      "LinearRegression RMSE: 41.8744, R2: 0.9882\n",
      "RandomForest RMSE: 14.3140, R2: 0.9986\n",
      "XGBoost RMSE: 13.5370, R2: 0.9988\n"
     ]
    }
   ],
   "source": [
    "# === Step 5: Premium Prediction (Regression) ===\n",
    "X_prem = df.drop(['CalculatedPremiumPerTerm', 'TotalClaims', 'ClaimOccurred'], axis=1)\n",
    "y_prem = df['CalculatedPremiumPerTerm']\n",
    "X_train_prem, X_test_prem, y_train_prem, y_test_prem = train_test_split(X_prem, y_prem, test_size=0.2, random_state=42)\n",
    "\n",
    "print(\"\\n--- Premium Prediction ---\")\n",
    "for name, model in models_reg.items():\n",
    "    model.fit(X_train_prem, y_train_prem)\n",
    "    y_pred = model.predict(X_test_prem)\n",
    "    print(f\"{name} RMSE: {np.sqrt(mean_squared_error(y_test_prem, y_pred)):.4f}, R2: {r2_score(y_test_prem, y_pred):.4f}\")\n"
   ]
  },
  {
   "cell_type": "code",
   "execution_count": 17,
   "id": "a0542192",
   "metadata": {},
   "outputs": [
    {
     "name": "stdout",
     "output_type": "stream",
     "text": [
      "\n",
      "--- Claim Probability Prediction ---\n",
      "LogisticRegression Accuracy: 0.9956, Precision: 0.6000, Recall: 0.0055, F1: 0.0109\n",
      "RandomForest Accuracy: 1.0000, Precision: 1.0000, Recall: 0.9982, F1: 0.9991\n",
      "XGBoost Accuracy: 0.9997, Precision: 0.9980, Recall: 0.9282, F1: 0.9618\n"
     ]
    }
   ],
   "source": [
    "# === Step 6: Claim Probability Prediction (Classification) ===\n",
    "X_clf = df.drop(['ClaimOccurred', 'TotalClaims', 'CalculatedPremiumPerTerm'], axis=1)\n",
    "y_clf = df['ClaimOccurred']\n",
    "X_train_clf, X_test_clf, y_train_clf, y_test_clf = train_test_split(X_clf, y_clf, test_size=0.2, random_state=42)\n",
    "\n",
    "models_clf = {\n",
    "    'LogisticRegression': LogisticRegression(max_iter=1000),\n",
    "    'RandomForest': RandomForestClassifier(random_state=42),\n",
    "    'XGBoost': XGBClassifier(use_label_encoder=False, eval_metric='logloss', random_state=42)\n",
    "}\n",
    "\n",
    "print(\"\\n--- Claim Probability Prediction ---\")\n",
    "for name, model in models_clf.items():\n",
    "    model.fit(X_train_clf, y_train_clf)\n",
    "    y_pred = model.predict(X_test_clf)\n",
    "    print(f\"{name} Accuracy: {accuracy_score(y_test_clf, y_pred):.4f}, Precision: {precision_score(y_test_clf, y_pred):.4f}, Recall: {recall_score(y_test_clf, y_pred):.4f}, F1: {f1_score(y_test_clf, y_pred):.4f}\")\n"
   ]
  }
 ],
 "metadata": {
  "kernelspec": {
   "display_name": ".venv",
   "language": "python",
   "name": "python3"
  },
  "language_info": {
   "codemirror_mode": {
    "name": "ipython",
    "version": 3
   },
   "file_extension": ".py",
   "mimetype": "text/x-python",
   "name": "python",
   "nbconvert_exporter": "python",
   "pygments_lexer": "ipython3",
   "version": "3.10.11"
  }
 },
 "nbformat": 4,
 "nbformat_minor": 5
}
